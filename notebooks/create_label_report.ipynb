{
 "cells": [
  {
   "cell_type": "markdown",
   "metadata": {},
   "source": [
    "# Label new inspection report.\n",
    "\n",
    "Generate labeling report from new inspection report"
   ]
  },
  {
   "cell_type": "code",
   "execution_count": 1,
   "metadata": {},
   "outputs": [],
   "source": [
    "import sys\n",
    "from pathlib import Path\n",
    "\n",
    "import pandas as pd\n",
    "from langchain_core.messages.ai import AIMessage\n",
    "\n",
    "sys.path.append(\"src\")\n",
    "\n",
    "import psclabeler as psc"
   ]
  },
  {
   "cell_type": "markdown",
   "metadata": {},
   "source": [
    "## Generate Response"
   ]
  },
  {
   "cell_type": "code",
   "execution_count": 2,
   "metadata": {},
   "outputs": [],
   "source": [
    "NEW_INSPECTION = Path(\"./data/New Inspection Report.pdf\")\n",
    "# SAMPLE_INSPECTION = Path(\"./data/Sample Inspection Report.pdf\")"
   ]
  },
  {
   "cell_type": "code",
   "execution_count": 3,
   "metadata": {},
   "outputs": [],
   "source": [
    "report_string = psc.data_query.data_ingest.parse_pdf_to_string(NEW_INSPECTION)\n",
    "report_dict = psc.data_query.data_ingest.split_report_to_chunk(report_string)"
   ]
  },
  {
   "cell_type": "code",
   "execution_count": 14,
   "metadata": {},
   "outputs": [],
   "source": [
    "model = psc.model.labeler.FewShotLLMPSCInspector()\n",
    "response_results = []\n",
    "for v in report_dict.values():\n",
    "    response = model.rate_risk(v)\n",
    "    response_results.append(response)"
   ]
  },
  {
   "cell_type": "markdown",
   "metadata": {},
   "source": [
    "### Capture all response from each deficiency and parse it accordingly\n",
    "- gather output\n",
    "- and potentially metadata"
   ]
  },
  {
   "cell_type": "code",
   "execution_count": 15,
   "metadata": {},
   "outputs": [
    {
     "data": {
      "text/plain": [
       "[AIMessage(content=\"Deficiency: Location of emergency installations. Not as required.\\n\\nCorrective Action: New weathertight IP67 rating electrical emergency stop switch boxes, along with newly fabricated outer protection steel boxes, have been installed at the port and starboard bunker stations, meeting the approval of the attending Class surveyor.\\n\\nPreventive Action: Ship Staff advised to fortify their inspection regime and diligently carry out the checks as per CLE 08 - Inactive Function tests, and rectify faults if any immediately.\\n\\nReason: The deficiency is due to a design or engineering defect, which is a weakness in the organization's processes. The non-compliance of emergency stop switches with requirements for electrical switch boxes installed on weather decks exposed to marine environment is a potential threat to human life and can cause accidents.\\n\\nClassification: High Risk.\", response_metadata={'token_usage': {'completion_tokens': 163, 'prompt_tokens': 1466, 'total_tokens': 1629}, 'model_name': 'gpt-35-turbo', 'system_fingerprint': None, 'prompt_filter_results': [{'prompt_index': 0, 'content_filter_results': {'hate': {'filtered': False, 'severity': 'safe'}, 'jailbreak': {'filtered': False, 'detected': False}, 'self_harm': {'filtered': False, 'severity': 'safe'}, 'sexual': {'filtered': False, 'severity': 'safe'}, 'violence': {'filtered': False, 'severity': 'safe'}}}], 'finish_reason': 'stop', 'logprobs': None, 'content_filter_results': {'hate': {'filtered': False, 'severity': 'safe'}, 'protected_material_code': {'filtered': False, 'detected': False}, 'protected_material_text': {'filtered': False, 'detected': False}, 'self_harm': {'filtered': False, 'severity': 'safe'}, 'sexual': {'filtered': False, 'severity': 'safe'}, 'violence': {'filtered': False, 'severity': 'safe'}}}, id='run-0ba7692c-57c9-448f-b271-0bf4f3679b44-0', usage_metadata={'input_tokens': 1466, 'output_tokens': 163, 'total_tokens': 1629}),\n",
       " AIMessage(content=\"Deficiency: The loading computer used for Stability Calculation was not approved by the RO.\\n\\nCorrective Action: 1. Master explain the use rule for the loading computer for all officer to ship's officer 2. Marked with word -no using for the loading computer by the work computer as per PSC advice.\\n\\nPreventive Action: 1. Master enhance supervision and training, supervise the officer follow the order as per SMS procedure. 2. Circulate to the fleet and require all ship Master checking and take action in order to avoid the similar defect recurrence.\\n\\nReason: The loading computer used for stability calculation was not approved by the RO, which is a lapse in management procedure. This could potentially lead to an accident or damage to the ship. \\n\\nClassification: High Risk.\", response_metadata={'token_usage': {'completion_tokens': 158, 'prompt_tokens': 1493, 'total_tokens': 1651}, 'model_name': 'gpt-35-turbo', 'system_fingerprint': None, 'prompt_filter_results': [{'prompt_index': 0, 'content_filter_results': {'hate': {'filtered': False, 'severity': 'safe'}, 'jailbreak': {'filtered': False, 'detected': False}, 'self_harm': {'filtered': False, 'severity': 'safe'}, 'sexual': {'filtered': False, 'severity': 'safe'}, 'violence': {'filtered': False, 'severity': 'safe'}}}], 'finish_reason': 'stop', 'logprobs': None, 'content_filter_results': {'hate': {'filtered': False, 'severity': 'safe'}, 'protected_material_code': {'filtered': False, 'detected': False}, 'protected_material_text': {'filtered': False, 'detected': False}, 'self_harm': {'filtered': False, 'severity': 'safe'}, 'sexual': {'filtered': False, 'severity': 'safe'}, 'violence': {'filtered': False, 'severity': 'safe'}}}, id='run-e3171db3-8117-4434-9b28-958deab9e8c5-0', usage_metadata={'input_tokens': 1493, 'output_tokens': 158, 'total_tokens': 1651}),\n",
       " AIMessage(content='Deficiency: Alarms/Emergency Signal - At the engine room, Four light alarms signal columns, Found with one light not working each one.\\n\\nCorrective Action: Replaced all busted bulbs and rechecked all the other light alarms signal column.\\n\\nPreventive Action: 1. Educate the crew to test the lights alarm signal column in every patrol and inspection in E/R. 2. Person in charge make the plan inspection.\\n\\nReason: This deficiency is a potential threat to human life and shipboard accident if an emergency occurs and the alarm system is not functioning properly. The root cause is a lack of maintenance planning and routine checks.\\n\\nClassification: Medium Risk.', response_metadata={'token_usage': {'completion_tokens': 135, 'prompt_tokens': 1435, 'total_tokens': 1570}, 'model_name': 'gpt-35-turbo', 'system_fingerprint': None, 'prompt_filter_results': [{'prompt_index': 0, 'content_filter_results': {'hate': {'filtered': False, 'severity': 'safe'}, 'jailbreak': {'filtered': False, 'detected': False}, 'self_harm': {'filtered': False, 'severity': 'safe'}, 'sexual': {'filtered': False, 'severity': 'safe'}, 'violence': {'filtered': False, 'severity': 'safe'}}}], 'finish_reason': 'stop', 'logprobs': None, 'content_filter_results': {'hate': {'filtered': False, 'severity': 'safe'}, 'protected_material_code': {'filtered': False, 'detected': False}, 'protected_material_text': {'filtered': False, 'detected': False}, 'self_harm': {'filtered': False, 'severity': 'safe'}, 'sexual': {'filtered': False, 'severity': 'safe'}, 'violence': {'filtered': False, 'severity': 'safe'}}}, id='run-d770db9d-0319-42e8-9435-e8b569297d69-0', usage_metadata={'input_tokens': 1435, 'output_tokens': 135, 'total_tokens': 1570})]"
      ]
     },
     "execution_count": 15,
     "metadata": {},
     "output_type": "execute_result"
    }
   ],
   "source": [
    "response_results"
   ]
  },
  {
   "cell_type": "code",
   "execution_count": 16,
   "metadata": {},
   "outputs": [],
   "source": [
    "def get_content_array(reponse_list: list[AIMessage]) -> list[str]:\n",
    "    \"\"\"Retrieve only content from AI response\"\"\"\n",
    "    return [r.content for r in reponse_list]\n",
    "\n",
    "\n",
    "def get_token_use_array(reponse_list: list[AIMessage]) -> list[str]:\n",
    "    \"\"\"Retrieve only content from AI response\"\"\"\n",
    "    return [r.response_metadata[\"token_usage\"] for r in reponse_list]\n",
    "\n",
    "\n",
    "def parse_single_deficiency_response_to_dict(response: list[str]):\n",
    "    \"\"\"After splitting each response into a list of 3 items, convert it into a dictionary.\"\"\"\n",
    "    split_k_v = [i.split(\":\", maxsplit=1) for i in response]\n",
    "    return {i[0].lower(): i[1].strip() for i in split_k_v}"
   ]
  },
  {
   "cell_type": "markdown",
   "metadata": {},
   "source": [
    "### Content Response as output for user"
   ]
  },
  {
   "cell_type": "code",
   "execution_count": 17,
   "metadata": {},
   "outputs": [
    {
     "data": {
      "text/plain": [
       "[\"Deficiency: Location of emergency installations. Not as required.\\n\\nCorrective Action: New weathertight IP67 rating electrical emergency stop switch boxes, along with newly fabricated outer protection steel boxes, have been installed at the port and starboard bunker stations, meeting the approval of the attending Class surveyor.\\n\\nPreventive Action: Ship Staff advised to fortify their inspection regime and diligently carry out the checks as per CLE 08 - Inactive Function tests, and rectify faults if any immediately.\\n\\nReason: The deficiency is due to a design or engineering defect, which is a weakness in the organization's processes. The non-compliance of emergency stop switches with requirements for electrical switch boxes installed on weather decks exposed to marine environment is a potential threat to human life and can cause accidents.\\n\\nClassification: High Risk.\",\n",
       " \"Deficiency: The loading computer used for Stability Calculation was not approved by the RO.\\n\\nCorrective Action: 1. Master explain the use rule for the loading computer for all officer to ship's officer 2. Marked with word -no using for the loading computer by the work computer as per PSC advice.\\n\\nPreventive Action: 1. Master enhance supervision and training, supervise the officer follow the order as per SMS procedure. 2. Circulate to the fleet and require all ship Master checking and take action in order to avoid the similar defect recurrence.\\n\\nReason: The loading computer used for stability calculation was not approved by the RO, which is a lapse in management procedure. This could potentially lead to an accident or damage to the ship. \\n\\nClassification: High Risk.\",\n",
       " 'Deficiency: Alarms/Emergency Signal - At the engine room, Four light alarms signal columns, Found with one light not working each one.\\n\\nCorrective Action: Replaced all busted bulbs and rechecked all the other light alarms signal column.\\n\\nPreventive Action: 1. Educate the crew to test the lights alarm signal column in every patrol and inspection in E/R. 2. Person in charge make the plan inspection.\\n\\nReason: This deficiency is a potential threat to human life and shipboard accident if an emergency occurs and the alarm system is not functioning properly. The root cause is a lack of maintenance planning and routine checks.\\n\\nClassification: Medium Risk.']"
      ]
     },
     "execution_count": 17,
     "metadata": {},
     "output_type": "execute_result"
    }
   ],
   "source": [
    "response_content = get_content_array(response_results)\n",
    "response_content"
   ]
  },
  {
   "cell_type": "markdown",
   "metadata": {},
   "source": [
    "### Additional Response as analysis for internal"
   ]
  },
  {
   "cell_type": "code",
   "execution_count": 18,
   "metadata": {},
   "outputs": [
    {
     "data": {
      "text/plain": [
       "[{'completion_tokens': 163, 'prompt_tokens': 1466, 'total_tokens': 1629},\n",
       " {'completion_tokens': 158, 'prompt_tokens': 1493, 'total_tokens': 1651},\n",
       " {'completion_tokens': 135, 'prompt_tokens': 1435, 'total_tokens': 1570}]"
      ]
     },
     "execution_count": 18,
     "metadata": {},
     "output_type": "execute_result"
    }
   ],
   "source": [
    "response_token = get_token_use_array(response_results)\n",
    "response_token"
   ]
  },
  {
   "cell_type": "code",
   "execution_count": 19,
   "metadata": {},
   "outputs": [],
   "source": [
    "results = []\n",
    "for res in response_content:\n",
    "    split_response = res.split(\"\\n\\n\")\n",
    "    parse_response = parse_single_deficiency_response_to_dict(split_response)\n",
    "    results.append(parse_response)"
   ]
  },
  {
   "cell_type": "markdown",
   "metadata": {},
   "source": [
    "## Note for future.\n",
    "what happen if there are no `deficiency`, `reason` and `classification` column from llm?"
   ]
  },
  {
   "cell_type": "code",
   "execution_count": 23,
   "metadata": {},
   "outputs": [],
   "source": [
    "df = pd.DataFrame(results)\n",
    "df = df[\n",
    "    [\"deficiency\", \"corrective action\", \"preventive action\", \"reason\", \"classification\"]\n",
    "]\n",
    "meta_df = pd.DataFrame(response_token)"
   ]
  },
  {
   "cell_type": "markdown",
   "metadata": {},
   "source": [
    "Sample of `df` output"
   ]
  },
  {
   "cell_type": "code",
   "execution_count": 24,
   "metadata": {},
   "outputs": [
    {
     "data": {
      "text/html": [
       "<div>\n",
       "<style scoped>\n",
       "    .dataframe tbody tr th:only-of-type {\n",
       "        vertical-align: middle;\n",
       "    }\n",
       "\n",
       "    .dataframe tbody tr th {\n",
       "        vertical-align: top;\n",
       "    }\n",
       "\n",
       "    .dataframe thead th {\n",
       "        text-align: right;\n",
       "    }\n",
       "</style>\n",
       "<table border=\"1\" class=\"dataframe\">\n",
       "  <thead>\n",
       "    <tr style=\"text-align: right;\">\n",
       "      <th></th>\n",
       "      <th>deficiency</th>\n",
       "      <th>corrective action</th>\n",
       "      <th>preventive action</th>\n",
       "      <th>reason</th>\n",
       "      <th>classification</th>\n",
       "    </tr>\n",
       "  </thead>\n",
       "  <tbody>\n",
       "    <tr>\n",
       "      <th>0</th>\n",
       "      <td>Location of emergency installations. Not as re...</td>\n",
       "      <td>New weathertight IP67 rating electrical emerge...</td>\n",
       "      <td>Ship Staff advised to fortify their inspection...</td>\n",
       "      <td>The deficiency is due to a design or engineeri...</td>\n",
       "      <td>High Risk.</td>\n",
       "    </tr>\n",
       "    <tr>\n",
       "      <th>1</th>\n",
       "      <td>The loading computer used for Stability Calcul...</td>\n",
       "      <td>1. Master explain the use rule for the loading...</td>\n",
       "      <td>1. Master enhance supervision and training, su...</td>\n",
       "      <td>The loading computer used for stability calcul...</td>\n",
       "      <td>High Risk.</td>\n",
       "    </tr>\n",
       "    <tr>\n",
       "      <th>2</th>\n",
       "      <td>Alarms/Emergency Signal - At the engine room, ...</td>\n",
       "      <td>Replaced all busted bulbs and rechecked all th...</td>\n",
       "      <td>1. Educate the crew to test the lights alarm s...</td>\n",
       "      <td>This deficiency is a potential threat to human...</td>\n",
       "      <td>Medium Risk.</td>\n",
       "    </tr>\n",
       "  </tbody>\n",
       "</table>\n",
       "</div>"
      ],
      "text/plain": [
       "                                          deficiency  \\\n",
       "0  Location of emergency installations. Not as re...   \n",
       "1  The loading computer used for Stability Calcul...   \n",
       "2  Alarms/Emergency Signal - At the engine room, ...   \n",
       "\n",
       "                                   corrective action  \\\n",
       "0  New weathertight IP67 rating electrical emerge...   \n",
       "1  1. Master explain the use rule for the loading...   \n",
       "2  Replaced all busted bulbs and rechecked all th...   \n",
       "\n",
       "                                   preventive action  \\\n",
       "0  Ship Staff advised to fortify their inspection...   \n",
       "1  1. Master enhance supervision and training, su...   \n",
       "2  1. Educate the crew to test the lights alarm s...   \n",
       "\n",
       "                                              reason classification  \n",
       "0  The deficiency is due to a design or engineeri...     High Risk.  \n",
       "1  The loading computer used for stability calcul...     High Risk.  \n",
       "2  This deficiency is a potential threat to human...   Medium Risk.  "
      ]
     },
     "execution_count": 24,
     "metadata": {},
     "output_type": "execute_result"
    }
   ],
   "source": [
    "df"
   ]
  },
  {
   "cell_type": "markdown",
   "metadata": {},
   "source": [
    "Sample of `metadata df`"
   ]
  },
  {
   "cell_type": "code",
   "execution_count": 25,
   "metadata": {},
   "outputs": [
    {
     "data": {
      "text/html": [
       "<div>\n",
       "<style scoped>\n",
       "    .dataframe tbody tr th:only-of-type {\n",
       "        vertical-align: middle;\n",
       "    }\n",
       "\n",
       "    .dataframe tbody tr th {\n",
       "        vertical-align: top;\n",
       "    }\n",
       "\n",
       "    .dataframe thead th {\n",
       "        text-align: right;\n",
       "    }\n",
       "</style>\n",
       "<table border=\"1\" class=\"dataframe\">\n",
       "  <thead>\n",
       "    <tr style=\"text-align: right;\">\n",
       "      <th></th>\n",
       "      <th>deficiency</th>\n",
       "      <th>corrective action</th>\n",
       "      <th>preventive action</th>\n",
       "      <th>reason</th>\n",
       "      <th>classification</th>\n",
       "      <th>completion_tokens</th>\n",
       "      <th>prompt_tokens</th>\n",
       "      <th>total_tokens</th>\n",
       "    </tr>\n",
       "  </thead>\n",
       "  <tbody>\n",
       "    <tr>\n",
       "      <th>0</th>\n",
       "      <td>Location of emergency installations. Not as re...</td>\n",
       "      <td>New weathertight IP67 rating electrical emerge...</td>\n",
       "      <td>Ship Staff advised to fortify their inspection...</td>\n",
       "      <td>The deficiency is due to a design or engineeri...</td>\n",
       "      <td>High Risk.</td>\n",
       "      <td>163</td>\n",
       "      <td>1466</td>\n",
       "      <td>1629</td>\n",
       "    </tr>\n",
       "    <tr>\n",
       "      <th>1</th>\n",
       "      <td>The loading computer used for Stability Calcul...</td>\n",
       "      <td>1. Master explain the use rule for the loading...</td>\n",
       "      <td>1. Master enhance supervision and training, su...</td>\n",
       "      <td>The loading computer used for stability calcul...</td>\n",
       "      <td>High Risk.</td>\n",
       "      <td>158</td>\n",
       "      <td>1493</td>\n",
       "      <td>1651</td>\n",
       "    </tr>\n",
       "    <tr>\n",
       "      <th>2</th>\n",
       "      <td>Alarms/Emergency Signal - At the engine room, ...</td>\n",
       "      <td>Replaced all busted bulbs and rechecked all th...</td>\n",
       "      <td>1. Educate the crew to test the lights alarm s...</td>\n",
       "      <td>This deficiency is a potential threat to human...</td>\n",
       "      <td>Medium Risk.</td>\n",
       "      <td>135</td>\n",
       "      <td>1435</td>\n",
       "      <td>1570</td>\n",
       "    </tr>\n",
       "  </tbody>\n",
       "</table>\n",
       "</div>"
      ],
      "text/plain": [
       "                                          deficiency  \\\n",
       "0  Location of emergency installations. Not as re...   \n",
       "1  The loading computer used for Stability Calcul...   \n",
       "2  Alarms/Emergency Signal - At the engine room, ...   \n",
       "\n",
       "                                   corrective action  \\\n",
       "0  New weathertight IP67 rating electrical emerge...   \n",
       "1  1. Master explain the use rule for the loading...   \n",
       "2  Replaced all busted bulbs and rechecked all th...   \n",
       "\n",
       "                                   preventive action  \\\n",
       "0  Ship Staff advised to fortify their inspection...   \n",
       "1  1. Master enhance supervision and training, su...   \n",
       "2  1. Educate the crew to test the lights alarm s...   \n",
       "\n",
       "                                              reason classification  \\\n",
       "0  The deficiency is due to a design or engineeri...     High Risk.   \n",
       "1  The loading computer used for stability calcul...     High Risk.   \n",
       "2  This deficiency is a potential threat to human...   Medium Risk.   \n",
       "\n",
       "   completion_tokens  prompt_tokens  total_tokens  \n",
       "0                163           1466          1629  \n",
       "1                158           1493          1651  \n",
       "2                135           1435          1570  "
      ]
     },
     "execution_count": 25,
     "metadata": {},
     "output_type": "execute_result"
    }
   ],
   "source": [
    "meta_df = pd.concat([df, meta_df],axis=1)\n",
    "meta_df"
   ]
  },
  {
   "cell_type": "markdown",
   "metadata": {},
   "source": [
    "Realign deficiency number"
   ]
  },
  {
   "cell_type": "code",
   "execution_count": 26,
   "metadata": {},
   "outputs": [],
   "source": [
    "meta_df.index = meta_df.index + 1\n",
    "df.index = df.index + 1"
   ]
  },
  {
   "cell_type": "markdown",
   "metadata": {},
   "source": [
    "Saving as excel "
   ]
  },
  {
   "cell_type": "code",
   "execution_count": 27,
   "metadata": {},
   "outputs": [],
   "source": [
    "with pd.ExcelWriter('./data/results.xlsx') as writer:\n",
    "    df.to_excel(writer, sheet_name='label_deficiency')\n",
    "    meta_df.to_excel(writer, sheet_name='token_output')"
   ]
  }
 ],
 "metadata": {
  "kernelspec": {
   "display_name": "psc",
   "language": "python",
   "name": "python3"
  },
  "language_info": {
   "codemirror_mode": {
    "name": "ipython",
    "version": 3
   },
   "file_extension": ".py",
   "mimetype": "text/x-python",
   "name": "python",
   "nbconvert_exporter": "python",
   "pygments_lexer": "ipython3",
   "version": "3.11.9"
  }
 },
 "nbformat": 4,
 "nbformat_minor": 2
}
