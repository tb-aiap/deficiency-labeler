{
 "cells": [
  {
   "cell_type": "markdown",
   "metadata": {},
   "source": [
    "# Label new inspection report.\n",
    "\n",
    "Generate labeling report from new inspection report"
   ]
  },
  {
   "cell_type": "code",
   "execution_count": 43,
   "metadata": {},
   "outputs": [],
   "source": [
    "import sys\n",
    "from pathlib import Path\n",
    "\n",
    "import pandas as pd\n",
    "from langchain_core.messages.ai import AIMessage\n",
    "\n",
    "sys.path.append(\"src\")\n",
    "\n",
    "import psclabeler as psc"
   ]
  },
  {
   "cell_type": "markdown",
   "metadata": {},
   "source": [
    "## Generate Response"
   ]
  },
  {
   "cell_type": "code",
   "execution_count": 44,
   "metadata": {},
   "outputs": [],
   "source": [
    "NEW_INSPECTION = Path(\"./data/New Inspection Report.pdf\")\n",
    "# SAMPLE_INSPECTION = Path(\"./data/Sample Inspection Report.pdf\")"
   ]
  },
  {
   "cell_type": "code",
   "execution_count": 45,
   "metadata": {},
   "outputs": [],
   "source": [
    "report_string = psc.data_query.data_ingest.parse_pdf_to_string(NEW_INSPECTION)\n",
    "report_dict = psc.data_query.data_ingest.split_report_to_chunk(report_string)"
   ]
  },
  {
   "cell_type": "code",
   "execution_count": 46,
   "metadata": {},
   "outputs": [],
   "source": [
    "model = psc.model.labeler.ZeroShotLLMPSCInspector()\n",
    "response_results = []\n",
    "for v in report_dict.values():\n",
    "    response = model.rate_risk(v)\n",
    "    response_results.append(response)"
   ]
  },
  {
   "cell_type": "markdown",
   "metadata": {},
   "source": [
    "### Capture all response from each deficiency and parse it accordingly\n",
    "- gather output\n",
    "- and potentially metadata"
   ]
  },
  {
   "cell_type": "code",
   "execution_count": 47,
   "metadata": {},
   "outputs": [
    {
     "data": {
      "text/plain": [
       "[AIMessage(content='Deficiency: Location of emergency installations. Not as required.\\n\\nReason: The emergency stop switches installed on weather decks were not compliant with requirements for marine environment. This poses a potential threat to personnel and the ship in case of an emergency.\\n\\nClassification: Medium', response_metadata={'token_usage': {'completion_tokens': 50, 'prompt_tokens': 401, 'total_tokens': 451}, 'model_name': 'gpt-35-turbo', 'system_fingerprint': None, 'prompt_filter_results': [{'prompt_index': 0, 'content_filter_results': {'hate': {'filtered': False, 'severity': 'safe'}, 'jailbreak': {'filtered': False, 'detected': False}, 'self_harm': {'filtered': False, 'severity': 'safe'}, 'sexual': {'filtered': False, 'severity': 'safe'}, 'violence': {'filtered': False, 'severity': 'safe'}}}], 'finish_reason': 'stop', 'logprobs': None, 'content_filter_results': {'hate': {'filtered': False, 'severity': 'safe'}, 'self_harm': {'filtered': False, 'severity': 'safe'}, 'sexual': {'filtered': False, 'severity': 'safe'}, 'violence': {'filtered': False, 'severity': 'safe'}}}, id='run-b6ed3127-bde5-4972-9660-9b9d89a1e2fc-0', usage_metadata={'input_tokens': 401, 'output_tokens': 50, 'total_tokens': 451}),\n",
       " AIMessage(content=\"Deficiency: The loading computer used for Stability Calculation was not approved by the RO.\\n\\nReason: The chief mate installed the loading computer device software to another computer in addition to the specified loading computer, indicating work negligence.\\n\\nAnalysis: This deficiency exposes a weakness in the organization's processes and has the potential to cause medium economic and reputational harm.\\n\\nClassification: Medium\", response_metadata={'token_usage': {'completion_tokens': 71, 'prompt_tokens': 428, 'total_tokens': 499}, 'model_name': 'gpt-35-turbo', 'system_fingerprint': None, 'prompt_filter_results': [{'prompt_index': 0, 'content_filter_results': {'hate': {'filtered': False, 'severity': 'safe'}, 'jailbreak': {'filtered': False, 'detected': False}, 'self_harm': {'filtered': False, 'severity': 'safe'}, 'sexual': {'filtered': False, 'severity': 'safe'}, 'violence': {'filtered': False, 'severity': 'safe'}}}], 'finish_reason': 'stop', 'logprobs': None, 'content_filter_results': {'hate': {'filtered': False, 'severity': 'safe'}, 'protected_material_code': {'filtered': False, 'detected': False}, 'protected_material_text': {'filtered': False, 'detected': False}, 'self_harm': {'filtered': False, 'severity': 'safe'}, 'sexual': {'filtered': False, 'severity': 'safe'}, 'violence': {'filtered': False, 'severity': 'safe'}}}, id='run-de8fde79-aca0-48cd-af49-a32109b53ddb-0', usage_metadata={'input_tokens': 428, 'output_tokens': 71, 'total_tokens': 499}),\n",
       " AIMessage(content=\"Deficiency: Alarms/Emergency Signal - One light not working in each of the four signal columns in the engine room.\\n\\nReason:\\n- Step 1: The deficiency is related to the alarms and emergency signal system in the engine room.\\n- Step 2: The root cause is the lack of maintenance planning and weekly routine by the person in charge.\\n- Step 3: The deficiency does not expose a weakness in the organization's processes but is a result of a failure in carrying out routine maintenance.\\n- Step 4: The deficiency has the potential to pose a threat to personnel and the ship in case of an emergency situation.\\n\\nClassification: Medium\", response_metadata={'token_usage': {'completion_tokens': 131, 'prompt_tokens': 370, 'total_tokens': 501}, 'model_name': 'gpt-35-turbo', 'system_fingerprint': None, 'prompt_filter_results': [{'prompt_index': 0, 'content_filter_results': {'hate': {'filtered': False, 'severity': 'safe'}, 'jailbreak': {'filtered': False, 'detected': False}, 'self_harm': {'filtered': False, 'severity': 'safe'}, 'sexual': {'filtered': False, 'severity': 'safe'}, 'violence': {'filtered': False, 'severity': 'safe'}}}], 'finish_reason': 'stop', 'logprobs': None, 'content_filter_results': {'hate': {'filtered': False, 'severity': 'safe'}, 'protected_material_code': {'filtered': False, 'detected': False}, 'protected_material_text': {'filtered': False, 'detected': False}, 'self_harm': {'filtered': False, 'severity': 'safe'}, 'sexual': {'filtered': False, 'severity': 'safe'}, 'violence': {'filtered': False, 'severity': 'safe'}}}, id='run-b3619d8e-f5a2-4144-bb6b-caa199163e59-0', usage_metadata={'input_tokens': 370, 'output_tokens': 131, 'total_tokens': 501})]"
      ]
     },
     "execution_count": 47,
     "metadata": {},
     "output_type": "execute_result"
    }
   ],
   "source": [
    "response_results"
   ]
  },
  {
   "cell_type": "code",
   "execution_count": 48,
   "metadata": {},
   "outputs": [],
   "source": [
    "def get_content_array(reponse_list: list[AIMessage]) -> list[str]:\n",
    "    \"\"\"Retrieve only content from AI response\"\"\"\n",
    "    return [r.content for r in reponse_list]\n",
    "\n",
    "\n",
    "def get_token_use_array(reponse_list: list[AIMessage]) -> list[str]:\n",
    "    \"\"\"Retrieve only content from AI response\"\"\"\n",
    "    return [r.response_metadata[\"token_usage\"] for r in reponse_list]\n",
    "\n",
    "\n",
    "def parse_single_deficiency_response_to_dict(response: list[str]):\n",
    "    \"\"\"After splitting each response into a list of 3 items, convert it into a dictionary.\"\"\"\n",
    "    split_k_v = [i.split(\":\", maxsplit=1) for i in response]\n",
    "    return {i[0].lower(): i[1].strip() for i in split_k_v}"
   ]
  },
  {
   "cell_type": "markdown",
   "metadata": {},
   "source": [
    "### Content Response as output for user"
   ]
  },
  {
   "cell_type": "code",
   "execution_count": 49,
   "metadata": {},
   "outputs": [
    {
     "data": {
      "text/plain": [
       "['Deficiency: Location of emergency installations. Not as required.\\n\\nReason: The emergency stop switches installed on weather decks were not compliant with requirements for marine environment. This poses a potential threat to personnel and the ship in case of an emergency.\\n\\nClassification: Medium',\n",
       " \"Deficiency: The loading computer used for Stability Calculation was not approved by the RO.\\n\\nReason: The chief mate installed the loading computer device software to another computer in addition to the specified loading computer, indicating work negligence.\\n\\nAnalysis: This deficiency exposes a weakness in the organization's processes and has the potential to cause medium economic and reputational harm.\\n\\nClassification: Medium\",\n",
       " \"Deficiency: Alarms/Emergency Signal - One light not working in each of the four signal columns in the engine room.\\n\\nReason:\\n- Step 1: The deficiency is related to the alarms and emergency signal system in the engine room.\\n- Step 2: The root cause is the lack of maintenance planning and weekly routine by the person in charge.\\n- Step 3: The deficiency does not expose a weakness in the organization's processes but is a result of a failure in carrying out routine maintenance.\\n- Step 4: The deficiency has the potential to pose a threat to personnel and the ship in case of an emergency situation.\\n\\nClassification: Medium\"]"
      ]
     },
     "execution_count": 49,
     "metadata": {},
     "output_type": "execute_result"
    }
   ],
   "source": [
    "response_content = get_content_array(response_results)\n",
    "response_content"
   ]
  },
  {
   "cell_type": "markdown",
   "metadata": {},
   "source": [
    "### Additional Response as analysis for internal"
   ]
  },
  {
   "cell_type": "code",
   "execution_count": 50,
   "metadata": {},
   "outputs": [
    {
     "data": {
      "text/plain": [
       "[{'completion_tokens': 50, 'prompt_tokens': 401, 'total_tokens': 451},\n",
       " {'completion_tokens': 71, 'prompt_tokens': 428, 'total_tokens': 499},\n",
       " {'completion_tokens': 131, 'prompt_tokens': 370, 'total_tokens': 501}]"
      ]
     },
     "execution_count": 50,
     "metadata": {},
     "output_type": "execute_result"
    }
   ],
   "source": [
    "response_token = get_token_use_array(response_results)\n",
    "response_token"
   ]
  },
  {
   "cell_type": "code",
   "execution_count": 51,
   "metadata": {},
   "outputs": [],
   "source": [
    "results = []\n",
    "for res in response_content:\n",
    "    split_response = res.split(\"\\n\\n\")\n",
    "    parse_response = parse_single_deficiency_response_to_dict(split_response)\n",
    "    results.append(parse_response)"
   ]
  },
  {
   "cell_type": "markdown",
   "metadata": {},
   "source": [
    "## Note for future.\n",
    "what happen if there are no `deficiency`, `reason` and `classification` column from llm?"
   ]
  },
  {
   "cell_type": "code",
   "execution_count": 60,
   "metadata": {},
   "outputs": [],
   "source": [
    "df = pd.DataFrame(results)\n",
    "df = df[[\"deficiency\", \"reason\", \"classification\"]]\n",
    "meta_df = pd.DataFrame(response_token)"
   ]
  },
  {
   "cell_type": "markdown",
   "metadata": {},
   "source": [
    "Sample of `df` output"
   ]
  },
  {
   "cell_type": "code",
   "execution_count": 61,
   "metadata": {},
   "outputs": [
    {
     "data": {
      "text/html": [
       "<div>\n",
       "<style scoped>\n",
       "    .dataframe tbody tr th:only-of-type {\n",
       "        vertical-align: middle;\n",
       "    }\n",
       "\n",
       "    .dataframe tbody tr th {\n",
       "        vertical-align: top;\n",
       "    }\n",
       "\n",
       "    .dataframe thead th {\n",
       "        text-align: right;\n",
       "    }\n",
       "</style>\n",
       "<table border=\"1\" class=\"dataframe\">\n",
       "  <thead>\n",
       "    <tr style=\"text-align: right;\">\n",
       "      <th></th>\n",
       "      <th>deficiency</th>\n",
       "      <th>reason</th>\n",
       "      <th>classification</th>\n",
       "    </tr>\n",
       "  </thead>\n",
       "  <tbody>\n",
       "    <tr>\n",
       "      <th>0</th>\n",
       "      <td>Location of emergency installations. Not as re...</td>\n",
       "      <td>The emergency stop switches installed on weath...</td>\n",
       "      <td>Medium</td>\n",
       "    </tr>\n",
       "    <tr>\n",
       "      <th>1</th>\n",
       "      <td>The loading computer used for Stability Calcul...</td>\n",
       "      <td>The chief mate installed the loading computer ...</td>\n",
       "      <td>Medium</td>\n",
       "    </tr>\n",
       "    <tr>\n",
       "      <th>2</th>\n",
       "      <td>Alarms/Emergency Signal - One light not workin...</td>\n",
       "      <td>- Step 1: The deficiency is related to the ala...</td>\n",
       "      <td>Medium</td>\n",
       "    </tr>\n",
       "  </tbody>\n",
       "</table>\n",
       "</div>"
      ],
      "text/plain": [
       "                                          deficiency  \\\n",
       "0  Location of emergency installations. Not as re...   \n",
       "1  The loading computer used for Stability Calcul...   \n",
       "2  Alarms/Emergency Signal - One light not workin...   \n",
       "\n",
       "                                              reason classification  \n",
       "0  The emergency stop switches installed on weath...         Medium  \n",
       "1  The chief mate installed the loading computer ...         Medium  \n",
       "2  - Step 1: The deficiency is related to the ala...         Medium  "
      ]
     },
     "execution_count": 61,
     "metadata": {},
     "output_type": "execute_result"
    }
   ],
   "source": [
    "df"
   ]
  },
  {
   "cell_type": "markdown",
   "metadata": {},
   "source": [
    "Sample of `metadata df`"
   ]
  },
  {
   "cell_type": "code",
   "execution_count": 62,
   "metadata": {},
   "outputs": [
    {
     "data": {
      "text/html": [
       "<div>\n",
       "<style scoped>\n",
       "    .dataframe tbody tr th:only-of-type {\n",
       "        vertical-align: middle;\n",
       "    }\n",
       "\n",
       "    .dataframe tbody tr th {\n",
       "        vertical-align: top;\n",
       "    }\n",
       "\n",
       "    .dataframe thead th {\n",
       "        text-align: right;\n",
       "    }\n",
       "</style>\n",
       "<table border=\"1\" class=\"dataframe\">\n",
       "  <thead>\n",
       "    <tr style=\"text-align: right;\">\n",
       "      <th></th>\n",
       "      <th>deficiency</th>\n",
       "      <th>reason</th>\n",
       "      <th>classification</th>\n",
       "      <th>completion_tokens</th>\n",
       "      <th>prompt_tokens</th>\n",
       "      <th>total_tokens</th>\n",
       "    </tr>\n",
       "  </thead>\n",
       "  <tbody>\n",
       "    <tr>\n",
       "      <th>0</th>\n",
       "      <td>Location of emergency installations. Not as re...</td>\n",
       "      <td>The emergency stop switches installed on weath...</td>\n",
       "      <td>Medium</td>\n",
       "      <td>50</td>\n",
       "      <td>401</td>\n",
       "      <td>451</td>\n",
       "    </tr>\n",
       "    <tr>\n",
       "      <th>1</th>\n",
       "      <td>The loading computer used for Stability Calcul...</td>\n",
       "      <td>The chief mate installed the loading computer ...</td>\n",
       "      <td>Medium</td>\n",
       "      <td>71</td>\n",
       "      <td>428</td>\n",
       "      <td>499</td>\n",
       "    </tr>\n",
       "    <tr>\n",
       "      <th>2</th>\n",
       "      <td>Alarms/Emergency Signal - One light not workin...</td>\n",
       "      <td>- Step 1: The deficiency is related to the ala...</td>\n",
       "      <td>Medium</td>\n",
       "      <td>131</td>\n",
       "      <td>370</td>\n",
       "      <td>501</td>\n",
       "    </tr>\n",
       "  </tbody>\n",
       "</table>\n",
       "</div>"
      ],
      "text/plain": [
       "                                          deficiency  \\\n",
       "0  Location of emergency installations. Not as re...   \n",
       "1  The loading computer used for Stability Calcul...   \n",
       "2  Alarms/Emergency Signal - One light not workin...   \n",
       "\n",
       "                                              reason classification  \\\n",
       "0  The emergency stop switches installed on weath...         Medium   \n",
       "1  The chief mate installed the loading computer ...         Medium   \n",
       "2  - Step 1: The deficiency is related to the ala...         Medium   \n",
       "\n",
       "   completion_tokens  prompt_tokens  total_tokens  \n",
       "0                 50            401           451  \n",
       "1                 71            428           499  \n",
       "2                131            370           501  "
      ]
     },
     "execution_count": 62,
     "metadata": {},
     "output_type": "execute_result"
    }
   ],
   "source": [
    "meta_df = pd.concat([df, meta_df],axis=1)\n",
    "meta_df"
   ]
  },
  {
   "cell_type": "markdown",
   "metadata": {},
   "source": [
    "Realign deficiency number"
   ]
  },
  {
   "cell_type": "code",
   "execution_count": 57,
   "metadata": {},
   "outputs": [],
   "source": [
    "meta_df.index = meta_df.index + 1\n",
    "df.index = df.index + 1"
   ]
  },
  {
   "cell_type": "markdown",
   "metadata": {},
   "source": [
    "Saving as excel "
   ]
  },
  {
   "cell_type": "code",
   "execution_count": 58,
   "metadata": {},
   "outputs": [],
   "source": [
    "with pd.ExcelWriter('./data/results.xlsx') as writer:\n",
    "    df.to_excel(writer, sheet_name='label_deficiency')\n",
    "    meta_df.to_excel(writer, sheet_name='token_output')"
   ]
  }
 ],
 "metadata": {
  "kernelspec": {
   "display_name": "psc",
   "language": "python",
   "name": "python3"
  },
  "language_info": {
   "codemirror_mode": {
    "name": "ipython",
    "version": 3
   },
   "file_extension": ".py",
   "mimetype": "text/x-python",
   "name": "python",
   "nbconvert_exporter": "python",
   "pygments_lexer": "ipython3",
   "version": "3.11.9"
  }
 },
 "nbformat": 4,
 "nbformat_minor": 2
}
