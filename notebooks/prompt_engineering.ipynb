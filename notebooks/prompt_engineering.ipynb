{
 "cells": [
  {
   "cell_type": "markdown",
   "metadata": {},
   "source": [
    "## Testing prompt engineering pipeline\n",
    "\n",
    "Aim to create an interface for model after receiving deficiency input, and return a standardarize output.\n",
    "- testing a zeroshotprompter with sample dataset.\n",
    "- AzureOpenAI GPT3.5 turbo\n",
    "- return output as a `list[dict[str,str]]` for parsing results."
   ]
  },
  {
   "cell_type": "code",
   "execution_count": 1,
   "metadata": {},
   "outputs": [
    {
     "data": {
      "text/plain": [
       "True"
      ]
     },
     "execution_count": 1,
     "metadata": {},
     "output_type": "execute_result"
    }
   ],
   "source": [
    "import os\n",
    "import sys\n",
    "from pathlib import Path\n",
    "\n",
    "import dotenv\n",
    "from langchain_openai import AzureChatOpenAI\n",
    "\n",
    "sys.path.append(\"src\")\n",
    "import psclabeler as psc\n",
    "\n",
    "dotenv.load_dotenv()"
   ]
  },
  {
   "cell_type": "code",
   "execution_count": 2,
   "metadata": {},
   "outputs": [],
   "source": [
    "NEW_INSPECTION = Path(\"./data/New Inspection Report.pdf\")\n",
    "SAMPLE_INSPECTION = Path(\"./data/Sample Inspection Report.pdf\")"
   ]
  },
  {
   "cell_type": "code",
   "execution_count": 3,
   "metadata": {},
   "outputs": [],
   "source": [
    "report_str = psc.data_query.data_ingest.parse_pdf_to_string(SAMPLE_INSPECTION)\n",
    "report_dict = psc.data_query.data_ingest.split_report_to_chunk(report_str)"
   ]
  },
  {
   "cell_type": "code",
   "execution_count": 4,
   "metadata": {},
   "outputs": [
    {
     "data": {
      "text/plain": [
       "{1: 'Deficiency : Fire extinguisher for rescue boat rusted seriously.  \\nRoot Cause: Human Factors  \\nNOT APPLICABLE  \\nVessel Factors  \\nInappropriate storage Fire extinguisher was not protected from weather.  \\nManagement Factors  \\nNOT APPLICABLE  \\nOther Factors  \\nOthers Inclement weather conditions.  \\nCorrective action: Fire extinguisher replaced with a new extinguisher. The extinguisher is kept covered \\nfor protection against weather.  \\nPreventive action: Brieifing of entire ship staff carried out by Superintendent as to checks of rescue boat \\nequipment. Lessons learned shared with all the vessels in Fleet.',\n",
       " 2: 'Deficiency : The company name on the DOC is not the same as on the CSR. The interim SMC and interim \\nSecurity certificate have different company names to the DOC.  \\nRoot Cause:  Company stated in CSR doc not same as the DOC. Master without fail to cross check trading \\ncertificate.  \\nCorrective action:  Master w/o fail to cross check all trading certificates and to report Office in case of \\ndiscrepancy. Shore base also to support to see to it all certificate issued in accordance of the requirement.  \\nPreventive action:  Education (Education and Training) Briefing of master carried out for checking and \\nkeeping up to date all trading certificates.',\n",
       " 3: 'Deficiency : TWO DIFFERENT LOADLINE CERTIFICATE SHOWED AT THE SAME TIME BY MASTER  \\nRoot Cause:  Routine / repetitious work  \\nCorrective action:  IN USE CERTIFICATE SHOWN TO PSC INSPECTOR AND PREVIOUS VERSION OF \\nCERTIFICATE REMOVED AND DISCARDED.  \\nPreventive action:  Certificate Files to be checked. Old/Invalid Certificates to be removed from the File to \\navoid confusion.',\n",
       " 4: 'Deficiency : Type of Ship in SE, SR and IOPP certificates not identified  Root Cause:  PERSONAL FACTORS >> Lack of Skill >> Inadequate review instruction The Vessel was under \\nE cert Regime, which was not clearly understood by PSCO  \\nCorrective action:  Clarification & E -certificate from RO received, Vessel is enrolled under E -cert module \\nand endorsement issuance do not require physical stamping. E -cert from class were presented to PSCO. \\nClarification letter from Class kept onboard cert. file for future c larification for any third party.  \\nPreventive action:  Education (Education and Training) Fleetwide sharing of Deficiency during routine \\ntransmission',\n",
       " 5: 'Deficiency : Third mate was forgotten to record fire and abandon drill in Nav Logbook.  \\nRoot Cause:  Third mate was not familiar with special requirements of Nav logbook regarding drill record, \\nwhich issued by CHINA MSA.  \\nCorrective action:  1. Add abandon and fire drill in Nav Logbook at major event column.  \\n2. Training all crew regarding special requirement regarding drill record in Nav Logbook.  \\nPreventive action:  1. All drill record should be recorded in nav logbook after drill all complete.  \\n2. Master should supervise whether duty officer was recording properly.'}"
      ]
     },
     "execution_count": 4,
     "metadata": {},
     "output_type": "execute_result"
    }
   ],
   "source": [
    "report_dict"
   ]
  },
  {
   "cell_type": "markdown",
   "metadata": {},
   "source": [
    "### Set up Model"
   ]
  },
  {
   "cell_type": "code",
   "execution_count": 5,
   "metadata": {},
   "outputs": [],
   "source": [
    "model = AzureChatOpenAI(\n",
    "    api_key=os.getenv(\"AZURE_OPENAI_API_KEY\"),\n",
    "    api_version=\"2024-02-01\",\n",
    "    azure_endpoint=os.getenv(\"AZURE_OPENAI_ENDPOINT\"),\n",
    "    deployment_name=os.getenv(\"AZURE_MODEL\"),\n",
    ")"
   ]
  },
  {
   "cell_type": "code",
   "execution_count": 8,
   "metadata": {},
   "outputs": [],
   "source": [
    "def chat_labeler(query: str):\n",
    "    risk_guideline = psc.model.prompt.RISK_ASSESSMENT\n",
    "    sys_prompt = psc.model.prompt.PSC_INSPECTOR\n",
    "    initial_prompt = psc.model.prompt.ZERO_SHOT_PROMPT.format(\n",
    "        risk_assessment=risk_guideline, deficiency_query=query\n",
    "    )\n",
    "    response = model.invoke(input=[sys_prompt, initial_prompt], temperature=0)\n",
    "\n",
    "    return response"
   ]
  },
  {
   "cell_type": "code",
   "execution_count": 9,
   "metadata": {},
   "outputs": [
    {
     "name": "stdout",
     "output_type": "stream",
     "text": [
      "Deficiency: Fire extinguisher for rescue boat rusted seriously.\n",
      "\n",
      "Reason: The fire extinguisher was not protected from weather, which is an inappropriate storage practice. \n",
      "\n",
      "Classification: Medium\n",
      "\n",
      "Deficiency: The company name on the DOC is not the same as on the CSR. The interim SMC and interim Security certificate have different company names to the DOC.\n",
      "\n",
      "Reason:\n",
      "- This deficiency exposes a weakness in the organization's processes.\n",
      "- It does not pose an immediate threat to human life or cause an accident, but it has the potential to cause medium to large economic and reputational harm.\n",
      "\n",
      "Classification: Medium\n",
      "\n",
      "Deficiency: Two different loadline certificate showed at the same time by master.\n",
      "\n",
      "Reason:\n",
      "This deficiency exposes a weakness in the organization's processes as it indicates a lack of proper record-keeping and attention to detail. It could also potentially cause confusion and errors in decision-making related to the vessel's load capacity.\n",
      "\n",
      "Classification: Medium\n",
      "\n",
      "Deficiency: Type of Ship in SE, SR and IOPP certificates not identified.\n",
      "\n",
      "Reason: The deficiency was caused by a lack of skill and inadequate review instruction on the part of the personnel. The vessel was under E cert Regime, which was not clearly understood by PSCO.\n",
      "\n",
      "Classification: Medium.\n",
      "\n",
      "Deficiency: Third mate forgot to record fire and abandon drill in Nav Logbook.\n",
      "\n",
      "Reason: The third mate was not familiar with the special requirements of the Nav logbook regarding drill records issued by CHINA MSA. This deficiency does not expose a weakness in the organization's processes, and it is unlikely to cause an accident or threaten human life.\n",
      "\n",
      "Classification: Low\n",
      "\n"
     ]
    }
   ],
   "source": [
    "for v in report_dict.values():\n",
    "    response = chat_labeler(v)\n",
    "    print(response.content)\n",
    "    print()"
   ]
  },
  {
   "cell_type": "markdown",
   "metadata": {},
   "source": [
    "### Findings.\n",
    "Using zero shot prompt engineering, we force the model to adhere to a certain output with key, value pairs for further analysis.\n",
    "Now the model output the following.\n",
    "```python\n",
    "\"deficiency\": \"description of it\"\n",
    "\"reason\": \"the model reasoning before assessing a risk\"\n",
    "\"classification\" : \"a one word classification\"\n",
    "```"
   ]
  },
  {
   "cell_type": "markdown",
   "metadata": {},
   "source": [
    "### Test modularize code"
   ]
  },
  {
   "cell_type": "code",
   "execution_count": 27,
   "metadata": {},
   "outputs": [
    {
     "name": "stdout",
     "output_type": "stream",
     "text": [
      "Deficiency: Fire extinguisher for rescue boat rusted seriously.\n",
      "\n",
      "Reason: The fire extinguisher was not protected from weather, which is an inappropriate storage practice. \n",
      "\n",
      "Classification: Medium\n",
      "\n",
      "Deficiency: The company name on the DOC is not the same as on the CSR. The interim SMC and interim Security certificate have different company names to the DOC.\n",
      "\n",
      "Reason:\n",
      "- The deficiency exposes a weakness in the organization's processes.\n",
      "- It is not significant enough to threaten human life or cause an accident.\n",
      "\n",
      "Classification: Medium\n",
      "\n",
      "Deficiency: Two different loadline certificate showed at the same time by master.\n",
      "\n",
      "Reason:\n",
      "This deficiency exposes a weakness in the organization's processes as it indicates a lack of proper record-keeping and attention to detail. It could also potentially cause confusion and errors in decision-making related to the vessel's load capacity.\n",
      "\n",
      "Classification: Medium\n",
      "\n",
      "Deficiency: Type of Ship in SE, SR and IOPP certificates not identified.\n",
      "\n",
      "Reason: The deficiency was caused by a lack of skill and inadequate review instruction by the personnel, leading to a misunderstanding of the vessel's E cert regime.\n",
      "\n",
      "Classification: Medium.\n",
      "\n",
      "Deficiency: Third mate forgot to record fire and abandon drill in Nav Logbook.\n",
      "\n",
      "Reason: The third mate was not familiar with the special requirements of the Nav logbook regarding drill records issued by CHINA MSA. This deficiency does not expose a weakness in the organization's processes, and it is unlikely to cause an accident or threaten human life.\n",
      "\n",
      "Classification: Low\n",
      "\n"
     ]
    }
   ],
   "source": [
    "inspector = psc.model.labeler.ZeroShotLLMPSCInspector()\n",
    "results = []\n",
    "for v in report_dict.values():\n",
    "    response = inspector.rate_risk(v)\n",
    "    results.append(response.content)\n",
    "    print(response.content)\n",
    "    print()"
   ]
  },
  {
   "cell_type": "markdown",
   "metadata": {},
   "source": [
    "### Parsing the output into storable format\n",
    "This result is a list of string. Aim to make it a dictionary of `deficiency`, `reason` and `classification`."
   ]
  },
  {
   "cell_type": "code",
   "execution_count": 8,
   "metadata": {},
   "outputs": [
    {
     "data": {
      "text/plain": [
       "['Deficiency: Fire extinguisher for rescue boat rusted seriously.\\n\\nReason: The fire extinguisher was not protected from weather, which is an inappropriate storage practice. \\n\\nClassification: Medium',\n",
       " \"Deficiency: The company name on the DOC is not the same as on the CSR. The interim SMC and interim Security certificate have different company names to the DOC.\\n\\nReason:\\nThis deficiency exposes a weakness in the organization's processes as there is a lack of cross-checking and verification of trading certificates. It does not pose an immediate threat to human life or cause an accident, but it has the potential to cause medium to large economic and reputational harm.\\n\\nClassification: Medium\",\n",
       " \"Deficiency: Two different loadline certificate showed at the same time by master.\\n\\nReason:\\nThis deficiency exposes a weakness in the organization's processes as it indicates a lack of proper record-keeping and attention to detail. It could also potentially cause confusion and errors in decision-making related to the vessel's load capacity.\\n\\nClassification: Medium\",\n",
       " \"Deficiency: Type of Ship in SE, SR and IOPP certificates not identified.\\n\\nReason: The deficiency was caused by a lack of skill and inadequate review instruction by the personnel, leading to a misunderstanding of the vessel's E cert regime.\\n\\nClassification: Medium.\",\n",
       " \"Deficiency: Third mate forgot to record fire and abandon drill in Nav Logbook.\\n\\nReason: The third mate was not familiar with the special requirements of the Nav logbook regarding drill records issued by CHINA MSA. This deficiency does not expose a weakness in the organization's processes, and it is unlikely to cause an accident or threaten human life.\\n\\nClassification: Low\"]"
      ]
     },
     "execution_count": 8,
     "metadata": {},
     "output_type": "execute_result"
    }
   ],
   "source": [
    "results"
   ]
  },
  {
   "cell_type": "code",
   "execution_count": 6,
   "metadata": {},
   "outputs": [],
   "source": [
    "def parse_single_deficiency_response_to_dict(response: list[str]):\n",
    "    \"\"\"After splitting each response into a list of 3 items, convert it into a dictionary.\"\"\"\n",
    "    split_k_v = [i.split(\":\") for i in response]\n",
    "    return {i[0].lower(): i[1].strip() for i in split_k_v}"
   ]
  },
  {
   "cell_type": "code",
   "execution_count": 28,
   "metadata": {},
   "outputs": [
    {
     "data": {
      "text/plain": [
       "{'deficiency': 'Fire extinguisher for rescue boat rusted seriously.',\n",
       " 'reason': 'The fire extinguisher was not protected from weather, which is an inappropriate storage practice.',\n",
       " 'classification': 'Medium'}"
      ]
     },
     "execution_count": 28,
     "metadata": {},
     "output_type": "execute_result"
    }
   ],
   "source": [
    "parse_single_deficiency_response_to_dict([d.split(\"\\n\\n\") for d in results][0])"
   ]
  },
  {
   "cell_type": "code",
   "execution_count": 7,
   "metadata": {},
   "outputs": [
    {
     "name": "stdout",
     "output_type": "stream",
     "text": [
      "Deficiency: Fire extinguisher for rescue boat rusted seriously.\n",
      "\n",
      "Reason: The fire extinguisher was not protected from weather, which is an inappropriate storage practice.\n",
      "\n",
      "Classification: Medium\n",
      "\n",
      "Deficiency: The company name on the DOC is not the same as on the CSR. The interim SMC and interim Security certificate have different company names to the DOC.\n",
      "\n",
      "Reason:\n",
      "This deficiency exposes a weakness in the organization's processes as there is a lack of cross-checking and verification of trading certificates. It does not pose an immediate threat to human life or cause an accident or fire.\n",
      "\n",
      "Classification: Medium\n",
      "\n",
      "Deficiency: Two different loadline certificate showed at the same time by master.\n",
      "\n",
      "Reason:\n",
      "This deficiency exposes a weakness in the organization's processes as it indicates a lack of proper record-keeping and attention to detail. It could also potentially lead to confusion and errors in decision-making regarding the vessel's load capacity.\n",
      "\n",
      "Classification: Medium.\n",
      "\n",
      "Deficiency: Type of Ship in SE, SR and IOPP certificates not identified.\n",
      "\n",
      "Reason: The deficiency was caused by a lack of skill and inadequate review instruction on the part of the personnel. The vessel was under E cert Regime, which was not clearly understood by PSCO.\n",
      "\n",
      "Classification: Medium.\n",
      "\n",
      "Deficiency: Third mate forgot to record fire and abandon drill in Nav Logbook.\n",
      "\n",
      "Reason: The deficiency exposes a weakness in the third mate's knowledge and familiarity with the special requirements of the Nav Logbook regarding drill records, which were issued by CHINA MSA. However, it does not pose a significant threat to human life or cause an accident or fire.\n",
      "\n",
      "Classification: Low\n",
      "\n"
     ]
    }
   ],
   "source": [
    "inspector = psc.model.labeler.ZeroShotLLMPSCInspector()\n",
    "results = []\n",
    "for v in report_dict.values():\n",
    "    response = inspector.rate_risk(v)\n",
    "\n",
    "    split_response = response.content.split(\"\\n\\n\")\n",
    "\n",
    "    parse_response = parse_single_deficiency_response_to_dict(split_response)\n",
    "    results.append(parse_response)\n",
    "    print(response.content)\n",
    "    print()"
   ]
  },
  {
   "cell_type": "markdown",
   "metadata": {},
   "source": [
    "### Final result for error analysis of model's output\n",
    "For interpretability purpose, returning the returns together with model's analysis"
   ]
  },
  {
   "cell_type": "code",
   "execution_count": 8,
   "metadata": {},
   "outputs": [
    {
     "data": {
      "text/plain": [
       "[{'deficiency': 'Fire extinguisher for rescue boat rusted seriously.',\n",
       "  'reason': 'The fire extinguisher was not protected from weather, which is an inappropriate storage practice.',\n",
       "  'classification': 'Medium'},\n",
       " {'deficiency': 'The company name on the DOC is not the same as on the CSR. The interim SMC and interim Security certificate have different company names to the DOC.',\n",
       "  'reason': \"This deficiency exposes a weakness in the organization's processes as there is a lack of cross-checking and verification of trading certificates. It does not pose an immediate threat to human life or cause an accident or fire.\",\n",
       "  'classification': 'Medium'},\n",
       " {'deficiency': 'Two different loadline certificate showed at the same time by master.',\n",
       "  'reason': \"This deficiency exposes a weakness in the organization's processes as it indicates a lack of proper record-keeping and attention to detail. It could also potentially lead to confusion and errors in decision-making regarding the vessel's load capacity.\",\n",
       "  'classification': 'Medium.'},\n",
       " {'deficiency': 'Type of Ship in SE, SR and IOPP certificates not identified.',\n",
       "  'reason': 'The deficiency was caused by a lack of skill and inadequate review instruction on the part of the personnel. The vessel was under E cert Regime, which was not clearly understood by PSCO.',\n",
       "  'classification': 'Medium.'},\n",
       " {'deficiency': 'Third mate forgot to record fire and abandon drill in Nav Logbook.',\n",
       "  'reason': \"The deficiency exposes a weakness in the third mate's knowledge and familiarity with the special requirements of the Nav Logbook regarding drill records, which were issued by CHINA MSA. However, it does not pose a significant threat to human life or cause an accident or fire.\",\n",
       "  'classification': 'Low'}]"
      ]
     },
     "execution_count": 8,
     "metadata": {},
     "output_type": "execute_result"
    }
   ],
   "source": [
    "results"
   ]
  },
  {
   "cell_type": "code",
   "execution_count": 31,
   "metadata": {},
   "outputs": [
    {
     "data": {
      "text/html": [
       "<div>\n",
       "<style scoped>\n",
       "    .dataframe tbody tr th:only-of-type {\n",
       "        vertical-align: middle;\n",
       "    }\n",
       "\n",
       "    .dataframe tbody tr th {\n",
       "        vertical-align: top;\n",
       "    }\n",
       "\n",
       "    .dataframe thead th {\n",
       "        text-align: right;\n",
       "    }\n",
       "</style>\n",
       "<table border=\"1\" class=\"dataframe\">\n",
       "  <thead>\n",
       "    <tr style=\"text-align: right;\">\n",
       "      <th></th>\n",
       "      <th>deficiency</th>\n",
       "      <th>reason</th>\n",
       "      <th>classification</th>\n",
       "    </tr>\n",
       "  </thead>\n",
       "  <tbody>\n",
       "    <tr>\n",
       "      <th>0</th>\n",
       "      <td>Fire extinguisher for rescue boat rusted serio...</td>\n",
       "      <td>The fire extinguisher was not protected from w...</td>\n",
       "      <td>Medium</td>\n",
       "    </tr>\n",
       "    <tr>\n",
       "      <th>1</th>\n",
       "      <td>The company name on the DOC is not the same as...</td>\n",
       "      <td>- The deficiency exposes a weakness in the org...</td>\n",
       "      <td>Medium</td>\n",
       "    </tr>\n",
       "    <tr>\n",
       "      <th>2</th>\n",
       "      <td>Two different loadline certificate showed at t...</td>\n",
       "      <td>This deficiency exposes a weakness in the orga...</td>\n",
       "      <td>Medium</td>\n",
       "    </tr>\n",
       "    <tr>\n",
       "      <th>3</th>\n",
       "      <td>Type of Ship in SE, SR and IOPP certificates n...</td>\n",
       "      <td>The deficiency was caused by a lack of skill a...</td>\n",
       "      <td>Medium.</td>\n",
       "    </tr>\n",
       "    <tr>\n",
       "      <th>4</th>\n",
       "      <td>Third mate forgot to record fire and abandon d...</td>\n",
       "      <td>The third mate was not familiar with the speci...</td>\n",
       "      <td>Low</td>\n",
       "    </tr>\n",
       "  </tbody>\n",
       "</table>\n",
       "</div>"
      ],
      "text/plain": [
       "                                          deficiency  \\\n",
       "0  Fire extinguisher for rescue boat rusted serio...   \n",
       "1  The company name on the DOC is not the same as...   \n",
       "2  Two different loadline certificate showed at t...   \n",
       "3  Type of Ship in SE, SR and IOPP certificates n...   \n",
       "4  Third mate forgot to record fire and abandon d...   \n",
       "\n",
       "                                              reason classification  \n",
       "0  The fire extinguisher was not protected from w...         Medium  \n",
       "1  - The deficiency exposes a weakness in the org...         Medium  \n",
       "2  This deficiency exposes a weakness in the orga...         Medium  \n",
       "3  The deficiency was caused by a lack of skill a...        Medium.  \n",
       "4  The third mate was not familiar with the speci...            Low  "
      ]
     },
     "execution_count": 31,
     "metadata": {},
     "output_type": "execute_result"
    }
   ],
   "source": [
    "import pandas as pd\n",
    "\n",
    "pd.DataFrame(results)"
   ]
  }
 ],
 "metadata": {
  "kernelspec": {
   "display_name": "psc",
   "language": "python",
   "name": "python3"
  },
  "language_info": {
   "codemirror_mode": {
    "name": "ipython",
    "version": 3
   },
   "file_extension": ".py",
   "mimetype": "text/x-python",
   "name": "python",
   "nbconvert_exporter": "python",
   "pygments_lexer": "ipython3",
   "version": "3.11.9"
  }
 },
 "nbformat": 4,
 "nbformat_minor": 2
}
