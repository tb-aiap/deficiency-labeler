{
 "cells": [
  {
   "cell_type": "markdown",
   "metadata": {},
   "source": [
    "# Inspect each report for their structure. Refer to findings below."
   ]
  },
  {
   "cell_type": "code",
   "execution_count": 10,
   "metadata": {},
   "outputs": [],
   "source": [
    "from pathlib import Path\n",
    "from pypdf import PdfReader"
   ]
  },
  {
   "cell_type": "code",
   "execution_count": 11,
   "metadata": {},
   "outputs": [],
   "source": [
    "NEW_INSPECTION = Path(\"./data/New Inspection Report.pdf\")\n",
    "SAMPLE_INSPECTION = Path(\"./data/Sample Inspection Report.pdf\")"
   ]
  },
  {
   "cell_type": "code",
   "execution_count": 12,
   "metadata": {},
   "outputs": [],
   "source": [
    "def parse_pdf_to_string(pdf_file: Path | str) -> str:\n",
    "    \"\"\"get pdf reader and return the whole report as a string.\"\"\"\n",
    "    report_str = \"\"\n",
    "    reader = PdfReader(pdf_file)\n",
    "    for i in range(len(reader.pages)):\n",
    "        report_str += reader.pages[i].extract_text()\n",
    "    return report_str"
   ]
  },
  {
   "cell_type": "code",
   "execution_count": 107,
   "metadata": {},
   "outputs": [
    {
     "data": {
      "text/plain": [
       "\"Deficienc y 1 \\nDeficiency : Location of emergency installations. Not as required.  \\nRoot Cause: Design or engineering defect The in -use emergency stop switches did not comply with \\nrequirements for electrical switch boxes installed on weather decks exposed to marine environment.  \\nCorrective action: New weathertight IP67 rating electrical emergency stop switch boxes, along with \\nnewly fabricated outer protection steel boxes, have been installed at the port and starboard bunker \\nstations, meeting the approval of the attending Class surveyor.  \\nPreventive action: Ship Staff advised to fortify their inspection regime and diligently carry out the checks \\nas per CLE 08 - Inactive Function tests, and rectify faults if any immediately.  \\nDeficienc y 2 \\nDeficiency : The loading computer used for Stability Calculation was not approved by the RO.  \\nRoot Cause: Work negligence for chief mate installed the loading computer device software to another \\ncomputer in addition to the specified loading computer.  \\nCorrective action: 1. Master explain the use rule for the loading computer for all officer to ship's officer 2. \\nMarked with word -no using for the loading computer by the work computer as per PSC advice. 1. Ensure all \\nthe officer special C/O understand the rule for the loadin g computer.  \\nPreventive action: 1. Master enhance supervision and training, supervise the officer follow the order as \\nper SMS procedure. 2. Circulate to the fleet and require all ship Master checking and take action in order to \\navoid the similar defect recurrence.  \\nDeficienc y 3 \\nDeficiency : Alarms/Emergency Signal - At the engine room, Four light alarms signal columns, Found with \\none light not working each one.  \\nRoot Cause: Maintenance planning and weekly routine was not carried out by person in charge  \\nCorrective action: Replaced all busted bulbs and rechecked all the other light alarms signal column.  \\nPreventive action: 1. Educate the crew to test the lights alarm signal column in every patrol and \\ninspection in E/R. 2. Person in charge make the plan inspection.  \\n \\n \\n \""
      ]
     },
     "execution_count": 107,
     "metadata": {},
     "output_type": "execute_result"
    }
   ],
   "source": [
    "report_str = parse_pdf_to_string(NEW_INSPECTION)\n",
    "report_str"
   ]
  },
  {
   "cell_type": "code",
   "execution_count": 108,
   "metadata": {},
   "outputs": [
    {
     "name": "stdout",
     "output_type": "stream",
     "text": [
      "Deficienc y 1 \n",
      "Deficiency : Location of emergency installations. Not as required.  \n",
      "Root Cause: Design or engineering defect The in -use emergency stop switches did not comply with \n",
      "requirements for electrical switch boxes installed on weather decks exposed to marine environment.  \n",
      "Corrective action: New weathertight IP67 rating electrical emergency stop switch boxes, along with \n",
      "newly fabricated outer protection steel boxes, have been installed at the port and starboard bunker \n",
      "stations, meeting the approval of the attending Class surveyor.  \n",
      "Preventive action: Ship Staff advised to fortify their inspection regime and diligently carry out the checks \n",
      "as per CLE 08 - Inactive Function tests, and rectify faults if any immediately.  \n",
      "Deficienc y 2 \n",
      "Deficiency : The loading computer used for Stability Calculation was not approved by the RO.  \n",
      "Root Cause: Work negligence for chief mate installed the loading computer device software to another \n",
      "computer in addition to the specified loading computer.  \n",
      "Corrective action: 1. Master explain the use rule for the loading computer for all officer to ship's officer 2. \n",
      "Marked with word -no using for the loading computer by the work computer as per PSC advice. 1. Ensure all \n",
      "the officer special C/O understand the rule for the loadin g computer.  \n",
      "Preventive action: 1. Master enhance supervision and training, supervise the officer follow the order as \n",
      "per SMS procedure. 2. Circulate to the fleet and require all ship Master checking and take action in order to \n",
      "avoid the similar defect recurrence.  \n",
      "Deficienc y 3 \n",
      "Deficiency : Alarms/Emergency Signal - At the engine room, Four light alarms signal columns, Found with \n",
      "one light not working each one.  \n",
      "Root Cause: Maintenance planning and weekly routine was not carried out by person in charge  \n",
      "Corrective action: Replaced all busted bulbs and rechecked all the other light alarms signal column.  \n",
      "Preventive action: 1. Educate the crew to test the lights alarm signal column in every patrol and \n",
      "inspection in E/R. 2. Person in charge make the plan inspection.  \n",
      " \n",
      " \n",
      " \n"
     ]
    }
   ],
   "source": [
    "print(report_str)"
   ]
  },
  {
   "cell_type": "code",
   "execution_count": 109,
   "metadata": {},
   "outputs": [
    {
     "data": {
      "text/plain": [
       "'Deficienc y 1 \\nDeficiency : Fire extinguisher for rescue boat rusted seriously.  \\nRoot Cause: Human Factors  \\nNOT APPLICABLE  \\nVessel Factors  \\nInappropriate storage Fire extinguisher was not protected from weather.  \\nManagement Factors  \\nNOT APPLICABLE  \\nOther Factors  \\nOthers Inclement weather conditions.  \\nCorrective action: Fire extinguisher replaced with a new extinguisher. The extinguisher is kept covered \\nfor protection against weather.  \\nPreventive action: Brieifing of entire ship staff carried out by Superintendent as to checks of rescue boat \\nequipment. Lessons learned shared with all the vessels in Fleet.  \\nDeficiency 2  \\nDeficiency : The company name on the DOC is not the same as on the CSR. The interim SMC and interim \\nSecurity certificate have different company names to the DOC.  \\nRoot Cause:  Company stated in CSR doc not same as the DOC. Master without fail to cross check trading \\ncertificate.  \\nCorrective action:  Master w/o fail to cross check all trading certificates and to report Office in case of \\ndiscrepancy. Shore base also to support to see to it all certificate issued in accordance of the requirement.  \\nPreventive action:  Education (Education and Training) Briefing of master carried out for checking and \\nkeeping up to date all trading certificates.  \\nDeficiency 3 \\nDeficiency : TWO DIFFERENT LOADLINE CERTIFICATE SHOWED AT THE SAME TIME BY MASTER  \\nRoot Cause:  Routine / repetitious work  \\nCorrective action:  IN USE CERTIFICATE SHOWN TO PSC INSPECTOR AND PREVIOUS VERSION OF \\nCERTIFICATE REMOVED AND DISCARDED.  \\nPreventive action:  Certificate Files to be checked. Old/Invalid Certificates to be removed from the File to \\navoid confusion.  \\nDeficiency 4 \\nDeficiency : Type of Ship in SE, SR and IOPP certificates not identified  Root Cause:  PERSONAL FACTORS >> Lack of Skill >> Inadequate review instruction The Vessel was under \\nE cert Regime, which was not clearly understood by PSCO  \\nCorrective action:  Clarification & E -certificate from RO received, Vessel is enrolled under E -cert module \\nand endorsement issuance do not require physical stamping. E -cert from class were presented to PSCO. \\nClarification letter from Class kept onboard cert. file for future c larification for any third party.  \\nPreventive action:  Education (Education and Training) Fleetwide sharing of Deficiency during routine \\ntransmission  \\nDeficiency 5 \\nDeficiency : Third mate was forgotten to record fire and abandon drill in Nav Logbook.  \\nRoot Cause:  Third mate was not familiar with special requirements of Nav logbook regarding drill record, \\nwhich issued by CHINA MSA.  \\nCorrective action:  1. Add abandon and fire drill in Nav Logbook at major event column.  \\n2. Training all crew regarding special requirement regarding drill record in Nav Logbook.  \\nPreventive action:  1. All drill record should be recorded in nav logbook after drill all complete.  \\n2. Master should supervise whether duty officer was recording properly.  \\n \\n '"
      ]
     },
     "execution_count": 109,
     "metadata": {},
     "output_type": "execute_result"
    }
   ],
   "source": [
    "report_str = parse_pdf_to_string(SAMPLE_INSPECTION)\n",
    "report_str"
   ]
  },
  {
   "cell_type": "code",
   "execution_count": 110,
   "metadata": {},
   "outputs": [
    {
     "name": "stdout",
     "output_type": "stream",
     "text": [
      "Deficienc y 1 \n",
      "Deficiency : Fire extinguisher for rescue boat rusted seriously.  \n",
      "Root Cause: Human Factors  \n",
      "NOT APPLICABLE  \n",
      "Vessel Factors  \n",
      "Inappropriate storage Fire extinguisher was not protected from weather.  \n",
      "Management Factors  \n",
      "NOT APPLICABLE  \n",
      "Other Factors  \n",
      "Others Inclement weather conditions.  \n",
      "Corrective action: Fire extinguisher replaced with a new extinguisher. The extinguisher is kept covered \n",
      "for protection against weather.  \n",
      "Preventive action: Brieifing of entire ship staff carried out by Superintendent as to checks of rescue boat \n",
      "equipment. Lessons learned shared with all the vessels in Fleet.  \n",
      "Deficiency 2  \n",
      "Deficiency : The company name on the DOC is not the same as on the CSR. The interim SMC and interim \n",
      "Security certificate have different company names to the DOC.  \n",
      "Root Cause:  Company stated in CSR doc not same as the DOC. Master without fail to cross check trading \n",
      "certificate.  \n",
      "Corrective action:  Master w/o fail to cross check all trading certificates and to report Office in case of \n",
      "discrepancy. Shore base also to support to see to it all certificate issued in accordance of the requirement.  \n",
      "Preventive action:  Education (Education and Training) Briefing of master carried out for checking and \n",
      "keeping up to date all trading certificates.  \n",
      "Deficiency 3 \n",
      "Deficiency : TWO DIFFERENT LOADLINE CERTIFICATE SHOWED AT THE SAME TIME BY MASTER  \n",
      "Root Cause:  Routine / repetitious work  \n",
      "Corrective action:  IN USE CERTIFICATE SHOWN TO PSC INSPECTOR AND PREVIOUS VERSION OF \n",
      "CERTIFICATE REMOVED AND DISCARDED.  \n",
      "Preventive action:  Certificate Files to be checked. Old/Invalid Certificates to be removed from the File to \n",
      "avoid confusion.  \n",
      "Deficiency 4 \n",
      "Deficiency : Type of Ship in SE, SR and IOPP certificates not identified  Root Cause:  PERSONAL FACTORS >> Lack of Skill >> Inadequate review instruction The Vessel was under \n",
      "E cert Regime, which was not clearly understood by PSCO  \n",
      "Corrective action:  Clarification & E -certificate from RO received, Vessel is enrolled under E -cert module \n",
      "and endorsement issuance do not require physical stamping. E -cert from class were presented to PSCO. \n",
      "Clarification letter from Class kept onboard cert. file for future c larification for any third party.  \n",
      "Preventive action:  Education (Education and Training) Fleetwide sharing of Deficiency during routine \n",
      "transmission  \n",
      "Deficiency 5 \n",
      "Deficiency : Third mate was forgotten to record fire and abandon drill in Nav Logbook.  \n",
      "Root Cause:  Third mate was not familiar with special requirements of Nav logbook regarding drill record, \n",
      "which issued by CHINA MSA.  \n",
      "Corrective action:  1. Add abandon and fire drill in Nav Logbook at major event column.  \n",
      "2. Training all crew regarding special requirement regarding drill record in Nav Logbook.  \n",
      "Preventive action:  1. All drill record should be recorded in nav logbook after drill all complete.  \n",
      "2. Master should supervise whether duty officer was recording properly.  \n",
      " \n",
      " \n"
     ]
    }
   ],
   "source": [
    "print(report_str)"
   ]
  },
  {
   "cell_type": "markdown",
   "metadata": {},
   "source": [
    "### Findings\n",
    "\n",
    "All deficiencies in this inspection report have the following structure to it.\n",
    "- Deficiency Number\n",
    "- Deficiency Description\n",
    "- Root Cause\n",
    "- Corrective Action\n",
    "- Preventive Action\n",
    "\n",
    "However, the content strcture for each category is different.\n",
    "- Example, Root Cause in `SAMPLE REPORT` has various representation. Some has breakdown of HUMAN, VSESSEL, MANAGEMENT factors. While others are describing the root cause in general.\n",
    "- Also some list multiple ordered list root causes/corrective/preventive action, some single rootcause\n",
    "\n",
    "To explore suitable ways to parse the inputs (structured) into LLM as question for classification.\n",
    "\n",
    "1. pypdf to extract the text and send the report one deficiency at a time.\n",
    "    - use traditional NLP methods to clean the report of stopwords, \n",
    "2. use llm to parse the pdf into various deficiency for model input."
   ]
  },
  {
   "cell_type": "markdown",
   "metadata": {},
   "source": [
    "### Potential Path\n",
    "- use the sample inspection as context for few shot prompting for a unseen deficiency. Let the LLM \"reason logically\" and access the risk. This also allow the user to review LLM chain of thoughts.\n",
    "- use suitable chunking strategy and label for the LLM, so that when reading a new deficiency, vector should be able to find similar deficiency base on context vector.\n",
    "    - but need to chunk properly so that the entire deficiency is inside the context.\n",
    "- potentially using smaller models, BERT etc to classify the deficiency without any explanation."
   ]
  },
  {
   "cell_type": "markdown",
   "metadata": {},
   "source": [
    "## Testing chunking strategy"
   ]
  },
  {
   "cell_type": "markdown",
   "metadata": {},
   "source": [
    "### Regex to parse PDF into deficiency"
   ]
  },
  {
   "cell_type": "code",
   "execution_count": 9,
   "metadata": {},
   "outputs": [],
   "source": [
    "import re\n",
    "\n",
    "def split_report_to_chunk(report_text: str)-> dict[int, str]:\n",
    "    \"\"\"Split the entire report into a dictionary of deficiency per key value pair.\"\"\"\n",
    "    deficiencies = re.split(r\"[Dd]eficienc.?y.?\\d\", report_text)\n",
    "    deficiencies = [d.strip() for d in deficiencies if d.strip()]\n",
    "\n",
    "    list_d = {}\n",
    "    for i, deficiency in enumerate(deficiencies, 1):\n",
    "        if deficiency:\n",
    "            list_d[i] = f\"{deficiency}\"\n",
    "    \n",
    "    return list_d"
   ]
  },
  {
   "cell_type": "code",
   "execution_count": 14,
   "metadata": {},
   "outputs": [
    {
     "data": {
      "text/plain": [
       "{1: 'Deficiency : Location of emergency installations. Not as required.  \\nRoot Cause: Design or engineering defect The in -use emergency stop switches did not comply with \\nrequirements for electrical switch boxes installed on weather decks exposed to marine environment.  \\nCorrective action: New weathertight IP67 rating electrical emergency stop switch boxes, along with \\nnewly fabricated outer protection steel boxes, have been installed at the port and starboard bunker \\nstations, meeting the approval of the attending Class surveyor.  \\nPreventive action: Ship Staff advised to fortify their inspection regime and diligently carry out the checks \\nas per CLE 08 - Inactive Function tests, and rectify faults if any immediately.',\n",
       " 2: \"Deficiency : The loading computer used for Stability Calculation was not approved by the RO.  \\nRoot Cause: Work negligence for chief mate installed the loading computer device software to another \\ncomputer in addition to the specified loading computer.  \\nCorrective action: 1. Master explain the use rule for the loading computer for all officer to ship's officer 2. \\nMarked with word -no using for the loading computer by the work computer as per PSC advice. 1. Ensure all \\nthe officer special C/O understand the rule for the loadin g computer.  \\nPreventive action: 1. Master enhance supervision and training, supervise the officer follow the order as \\nper SMS procedure. 2. Circulate to the fleet and require all ship Master checking and take action in order to \\navoid the similar defect recurrence.\",\n",
       " 3: 'Deficiency : Alarms/Emergency Signal - At the engine room, Four light alarms signal columns, Found with \\none light not working each one.  \\nRoot Cause: Maintenance planning and weekly routine was not carried out by person in charge  \\nCorrective action: Replaced all busted bulbs and rechecked all the other light alarms signal column.  \\nPreventive action: 1. Educate the crew to test the lights alarm signal column in every patrol and \\ninspection in E/R. 2. Person in charge make the plan inspection.'}"
      ]
     },
     "execution_count": 14,
     "metadata": {},
     "output_type": "execute_result"
    }
   ],
   "source": [
    "report_str = parse_pdf_to_string(NEW_INSPECTION)\n",
    "report_chunk = split_report_to_chunk(report_str)\n",
    "report_chunk"
   ]
  },
  {
   "cell_type": "code",
   "execution_count": 13,
   "metadata": {},
   "outputs": [
    {
     "data": {
      "text/plain": [
       "{1: 'Deficiency : Fire extinguisher for rescue boat rusted seriously.  \\nRoot Cause: Human Factors  \\nNOT APPLICABLE  \\nVessel Factors  \\nInappropriate storage Fire extinguisher was not protected from weather.  \\nManagement Factors  \\nNOT APPLICABLE  \\nOther Factors  \\nOthers Inclement weather conditions.  \\nCorrective action: Fire extinguisher replaced with a new extinguisher. The extinguisher is kept covered \\nfor protection against weather.  \\nPreventive action: Brieifing of entire ship staff carried out by Superintendent as to checks of rescue boat \\nequipment. Lessons learned shared with all the vessels in Fleet.',\n",
       " 2: 'Deficiency : The company name on the DOC is not the same as on the CSR. The interim SMC and interim \\nSecurity certificate have different company names to the DOC.  \\nRoot Cause:  Company stated in CSR doc not same as the DOC. Master without fail to cross check trading \\ncertificate.  \\nCorrective action:  Master w/o fail to cross check all trading certificates and to report Office in case of \\ndiscrepancy. Shore base also to support to see to it all certificate issued in accordance of the requirement.  \\nPreventive action:  Education (Education and Training) Briefing of master carried out for checking and \\nkeeping up to date all trading certificates.',\n",
       " 3: 'Deficiency : TWO DIFFERENT LOADLINE CERTIFICATE SHOWED AT THE SAME TIME BY MASTER  \\nRoot Cause:  Routine / repetitious work  \\nCorrective action:  IN USE CERTIFICATE SHOWN TO PSC INSPECTOR AND PREVIOUS VERSION OF \\nCERTIFICATE REMOVED AND DISCARDED.  \\nPreventive action:  Certificate Files to be checked. Old/Invalid Certificates to be removed from the File to \\navoid confusion.',\n",
       " 4: 'Deficiency : Type of Ship in SE, SR and IOPP certificates not identified  Root Cause:  PERSONAL FACTORS >> Lack of Skill >> Inadequate review instruction The Vessel was under \\nE cert Regime, which was not clearly understood by PSCO  \\nCorrective action:  Clarification & E -certificate from RO received, Vessel is enrolled under E -cert module \\nand endorsement issuance do not require physical stamping. E -cert from class were presented to PSCO. \\nClarification letter from Class kept onboard cert. file for future c larification for any third party.  \\nPreventive action:  Education (Education and Training) Fleetwide sharing of Deficiency during routine \\ntransmission',\n",
       " 5: 'Deficiency : Third mate was forgotten to record fire and abandon drill in Nav Logbook.  \\nRoot Cause:  Third mate was not familiar with special requirements of Nav logbook regarding drill record, \\nwhich issued by CHINA MSA.  \\nCorrective action:  1. Add abandon and fire drill in Nav Logbook at major event column.  \\n2. Training all crew regarding special requirement regarding drill record in Nav Logbook.  \\nPreventive action:  1. All drill record should be recorded in nav logbook after drill all complete.  \\n2. Master should supervise whether duty officer was recording properly.'}"
      ]
     },
     "execution_count": 13,
     "metadata": {},
     "output_type": "execute_result"
    }
   ],
   "source": [
    "report_str = parse_pdf_to_string(SAMPLE_INSPECTION)\n",
    "report_chunk = split_report_to_chunk(report_str)\n",
    "report_chunk"
   ]
  }
 ],
 "metadata": {
  "kernelspec": {
   "display_name": "psc",
   "language": "python",
   "name": "python3"
  },
  "language_info": {
   "codemirror_mode": {
    "name": "ipython",
    "version": 3
   },
   "file_extension": ".py",
   "mimetype": "text/x-python",
   "name": "python",
   "nbconvert_exporter": "python",
   "pygments_lexer": "ipython3",
   "version": "3.11.9"
  }
 },
 "nbformat": 4,
 "nbformat_minor": 2
}
